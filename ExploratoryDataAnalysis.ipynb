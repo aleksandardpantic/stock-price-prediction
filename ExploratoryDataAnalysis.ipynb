{
 "cells": [
  {
   "cell_type": "code",
   "execution_count": 1,
   "id": "initial_id",
   "metadata": {
    "collapsed": true,
    "ExecuteTime": {
     "end_time": "2023-08-23T10:47:31.503717500Z",
     "start_time": "2023-08-23T10:47:31.071481800Z"
    }
   },
   "outputs": [],
   "source": [
    "import pandas as pd\n",
    "import numpy as np\n",
    "\n",
    "data = pd.read_csv('stockprice_master_NSE-TATAGLOBAL.csv')"
   ]
  },
  {
   "cell_type": "code",
   "execution_count": 2,
   "outputs": [],
   "source": [
    "data['Date'] = pd.to_datetime(data['Date'])"
   ],
   "metadata": {
    "collapsed": false,
    "ExecuteTime": {
     "end_time": "2023-08-23T10:47:31.519307800Z",
     "start_time": "2023-08-23T10:47:31.503717500Z"
    }
   },
   "id": "35a2537a2aee351e"
  },
  {
   "cell_type": "code",
   "execution_count": 3,
   "outputs": [
    {
     "data": {
      "text/plain": "(2035, 8)"
     },
     "execution_count": 3,
     "metadata": {},
     "output_type": "execute_result"
    }
   ],
   "source": [
    "data.shape"
   ],
   "metadata": {
    "collapsed": false,
    "ExecuteTime": {
     "end_time": "2023-08-23T10:47:31.566171900Z",
     "start_time": "2023-08-23T10:47:31.519307800Z"
    }
   },
   "id": "a4954080aadccc0a"
  },
  {
   "cell_type": "code",
   "execution_count": 4,
   "outputs": [
    {
     "name": "stdout",
     "output_type": "stream",
     "text": [
      "<class 'pandas.core.frame.DataFrame'>\n",
      "RangeIndex: 2035 entries, 0 to 2034\n",
      "Data columns (total 8 columns):\n",
      " #   Column                Non-Null Count  Dtype         \n",
      "---  ------                --------------  -----         \n",
      " 0   Date                  2035 non-null   datetime64[ns]\n",
      " 1   Open                  2035 non-null   float64       \n",
      " 2   High                  2035 non-null   float64       \n",
      " 3   Low                   2035 non-null   float64       \n",
      " 4   Last                  2035 non-null   float64       \n",
      " 5   Close                 2035 non-null   float64       \n",
      " 6   Total Trade Quantity  2035 non-null   int64         \n",
      " 7   Turnover (Lacs)       2035 non-null   float64       \n",
      "dtypes: datetime64[ns](1), float64(6), int64(1)\n",
      "memory usage: 127.3 KB\n"
     ]
    }
   ],
   "source": [
    "data.info()"
   ],
   "metadata": {
    "collapsed": false,
    "ExecuteTime": {
     "end_time": "2023-08-23T10:47:31.566171900Z",
     "start_time": "2023-08-23T10:47:31.534953200Z"
    }
   },
   "id": "3a1d6cac9946758b"
  },
  {
   "cell_type": "code",
   "execution_count": 5,
   "outputs": [
    {
     "data": {
      "text/plain": "                                Date         Open         High          Low  \\\ncount                           2035  2035.000000  2035.000000  2035.000000   \nmean   2014-08-20 14:43:06.339066112   149.713735   151.992826   147.293931   \nmin              2010-07-21 00:00:00    81.100000    82.800000    80.000000   \n25%              2012-07-28 12:00:00   120.025000   122.100000   118.300000   \n50%              2014-08-14 00:00:00   141.500000   143.400000   139.600000   \n75%              2016-09-10 12:00:00   157.175000   159.400000   155.150000   \nmax              2018-09-28 00:00:00   327.700000   328.750000   321.650000   \nstd                              NaN    48.664509    49.413109    47.931958   \n\n              Last       Close  Total Trade Quantity  Turnover (Lacs)  \ncount  2035.000000  2035.00000          2.035000e+03      2035.000000  \nmean    149.474251   149.45027          2.335681e+06      3899.980565  \nmin      81.000000    80.95000          3.961000e+04        37.040000  \n25%     120.075000   120.05000          1.146444e+06      1427.460000  \n50%     141.100000   141.25000          1.783456e+06      2512.030000  \n75%     156.925000   156.90000          2.813594e+06      4539.015000  \nmax     325.950000   325.75000          2.919102e+07     55755.080000  \nstd      48.732570    48.71204          2.091778e+06      4570.767877  ",
      "text/html": "<div>\n<style scoped>\n    .dataframe tbody tr th:only-of-type {\n        vertical-align: middle;\n    }\n\n    .dataframe tbody tr th {\n        vertical-align: top;\n    }\n\n    .dataframe thead th {\n        text-align: right;\n    }\n</style>\n<table border=\"1\" class=\"dataframe\">\n  <thead>\n    <tr style=\"text-align: right;\">\n      <th></th>\n      <th>Date</th>\n      <th>Open</th>\n      <th>High</th>\n      <th>Low</th>\n      <th>Last</th>\n      <th>Close</th>\n      <th>Total Trade Quantity</th>\n      <th>Turnover (Lacs)</th>\n    </tr>\n  </thead>\n  <tbody>\n    <tr>\n      <th>count</th>\n      <td>2035</td>\n      <td>2035.000000</td>\n      <td>2035.000000</td>\n      <td>2035.000000</td>\n      <td>2035.000000</td>\n      <td>2035.00000</td>\n      <td>2.035000e+03</td>\n      <td>2035.000000</td>\n    </tr>\n    <tr>\n      <th>mean</th>\n      <td>2014-08-20 14:43:06.339066112</td>\n      <td>149.713735</td>\n      <td>151.992826</td>\n      <td>147.293931</td>\n      <td>149.474251</td>\n      <td>149.45027</td>\n      <td>2.335681e+06</td>\n      <td>3899.980565</td>\n    </tr>\n    <tr>\n      <th>min</th>\n      <td>2010-07-21 00:00:00</td>\n      <td>81.100000</td>\n      <td>82.800000</td>\n      <td>80.000000</td>\n      <td>81.000000</td>\n      <td>80.95000</td>\n      <td>3.961000e+04</td>\n      <td>37.040000</td>\n    </tr>\n    <tr>\n      <th>25%</th>\n      <td>2012-07-28 12:00:00</td>\n      <td>120.025000</td>\n      <td>122.100000</td>\n      <td>118.300000</td>\n      <td>120.075000</td>\n      <td>120.05000</td>\n      <td>1.146444e+06</td>\n      <td>1427.460000</td>\n    </tr>\n    <tr>\n      <th>50%</th>\n      <td>2014-08-14 00:00:00</td>\n      <td>141.500000</td>\n      <td>143.400000</td>\n      <td>139.600000</td>\n      <td>141.100000</td>\n      <td>141.25000</td>\n      <td>1.783456e+06</td>\n      <td>2512.030000</td>\n    </tr>\n    <tr>\n      <th>75%</th>\n      <td>2016-09-10 12:00:00</td>\n      <td>157.175000</td>\n      <td>159.400000</td>\n      <td>155.150000</td>\n      <td>156.925000</td>\n      <td>156.90000</td>\n      <td>2.813594e+06</td>\n      <td>4539.015000</td>\n    </tr>\n    <tr>\n      <th>max</th>\n      <td>2018-09-28 00:00:00</td>\n      <td>327.700000</td>\n      <td>328.750000</td>\n      <td>321.650000</td>\n      <td>325.950000</td>\n      <td>325.75000</td>\n      <td>2.919102e+07</td>\n      <td>55755.080000</td>\n    </tr>\n    <tr>\n      <th>std</th>\n      <td>NaN</td>\n      <td>48.664509</td>\n      <td>49.413109</td>\n      <td>47.931958</td>\n      <td>48.732570</td>\n      <td>48.71204</td>\n      <td>2.091778e+06</td>\n      <td>4570.767877</td>\n    </tr>\n  </tbody>\n</table>\n</div>"
     },
     "execution_count": 5,
     "metadata": {},
     "output_type": "execute_result"
    }
   ],
   "source": [
    "data.describe(include='all')"
   ],
   "metadata": {
    "collapsed": false,
    "ExecuteTime": {
     "end_time": "2023-08-23T10:47:31.628688800Z",
     "start_time": "2023-08-23T10:47:31.550550400Z"
    }
   },
   "id": "26bdc405a631f153"
  },
  {
   "cell_type": "markdown",
   "source": [],
   "metadata": {
    "collapsed": false
   },
   "id": "2c9db1d53c2fe791"
  },
  {
   "cell_type": "code",
   "execution_count": 6,
   "outputs": [],
   "source": [
    "from ydata_profiling import ProfileReport\n",
    "\n",
    "report = ProfileReport(data,title = 'Stock Price Report', tsmode=True)"
   ],
   "metadata": {
    "collapsed": false,
    "ExecuteTime": {
     "end_time": "2023-08-23T10:47:33.336204300Z",
     "start_time": "2023-08-23T10:47:31.597442900Z"
    }
   },
   "id": "62d420e923e914a8"
  },
  {
   "cell_type": "code",
   "execution_count": 9,
   "outputs": [
    {
     "data": {
      "text/plain": "Export report to file:   0%|          | 0/1 [00:00<?, ?it/s]",
      "application/vnd.jupyter.widget-view+json": {
       "version_major": 2,
       "version_minor": 0,
       "model_id": "4dd4c7e672e6494fb609910b3a3c3d84"
      }
     },
     "metadata": {},
     "output_type": "display_data"
    }
   ],
   "source": [
    "report.to_file('report.html')"
   ],
   "metadata": {
    "collapsed": false,
    "ExecuteTime": {
     "end_time": "2023-08-23T10:48:21.125832100Z",
     "start_time": "2023-08-23T10:48:21.085480Z"
    }
   },
   "id": "bbe8ce47939be98b"
  }
 ],
 "metadata": {
  "kernelspec": {
   "display_name": "Python 3",
   "language": "python",
   "name": "python3"
  },
  "language_info": {
   "codemirror_mode": {
    "name": "ipython",
    "version": 2
   },
   "file_extension": ".py",
   "mimetype": "text/x-python",
   "name": "python",
   "nbconvert_exporter": "python",
   "pygments_lexer": "ipython2",
   "version": "2.7.6"
  }
 },
 "nbformat": 4,
 "nbformat_minor": 5
}
