{
 "cells": [
  {
   "cell_type": "code",
   "execution_count": null,
   "outputs": [],
   "source": [
    "import pickle\n",
    "import pandas as pd\n",
    "import numpy as np\n",
    "import transformers\n",
    "\n",
    "train_data = pd.read_csv('stockprice_master_NSE-TATAGLOBAL.csv')"
   ],
   "metadata": {
    "collapsed": false
   },
   "id": "27ffbfb550d654f4"
  },
  {
   "cell_type": "markdown",
   "source": [],
   "metadata": {
    "collapsed": false
   },
   "id": "35f3e2e3c6b64315"
  },
  {
   "cell_type": "code",
   "execution_count": null,
   "outputs": [],
   "source": [
    "transformer = transformers.Transformer()\n",
    "transformer.fit(train_data)"
   ],
   "metadata": {
    "collapsed": false
   },
   "id": "7672f46015f8e8db"
  },
  {
   "cell_type": "code",
   "execution_count": null,
   "outputs": [],
   "source": [
    "X_train, y_train = transformer.sequence( transformer.transform(train_data))"
   ],
   "metadata": {
    "collapsed": false
   },
   "id": "e0b8e09533a4866e"
  },
  {
   "cell_type": "code",
   "execution_count": null,
   "outputs": [],
   "source": [
    "from keras_tuner import HyperParameters, GridSearch, RandomSearch\n",
    "from keras.layers import Input,Dense, LSTM, Dropout, BatchNormalization as BatchNorm\n",
    "from keras.models import Model\n",
    "from keras.callbacks import EarlyStopping\n",
    "from keras.optimizers import Adam"
   ],
   "metadata": {
    "collapsed": false
   },
   "id": "68502cd5e8505719"
  },
  {
   "cell_type": "code",
   "execution_count": null,
   "outputs": [],
   "source": [
    "def model_builder(hp: HyperParameters) -> Model:\n",
    "    inputs = Input(shape=(X_train[1].shape))\n",
    "\n",
    "    lstm1 = LSTM(140,return_sequences=True)(inputs)\n",
    "    \n",
    "    dropout1 = Dropout(0.2)(lstm1)\n",
    "\n",
    "\n",
    "    lstm2 = LSTM(units=80, return_sequences=True)(dropout1)\n",
    "    \n",
    "    dropout2 = Dropout(0.2)(lstm2)\n",
    "\n",
    "\n",
    "    lstm3 = LSTM(units=140)(dropout2)\n",
    "    dropout3 = Dropout(0.2)(lstm3)\n",
    "   \n",
    "    output = Dense(units=1)(dropout3)\n",
    "    model = Model(inputs,output,name='stock-price-prediction')\n",
    "\n",
    "    model.compile(optimizer=Adam(learning_rate=0.005),loss='mean_squared_error')\n",
    "    return model"
   ],
   "metadata": {
    "collapsed": false
   },
   "id": "8c9b5294b1047e3d"
  },
  {
   "cell_type": "code",
   "execution_count": null,
   "outputs": [],
   "source": [
    "early_stopping = EarlyStopping(monitor='loss',\n",
    "                               min_delta=0.05,  # najmanja promena u odnosu na prethodnu epohu\n",
    "                               patience=2,\n",
    "                               # broj epoha sa promenom manjom od delta vrednosti nakon ceka trening staje\n",
    "                               verbose=1,  # da prikaze zasto je trening zaustavljen\n",
    "                               restore_best_weights=True)"
   ],
   "metadata": {
    "collapsed": false
   },
   "id": "7c2cb09895518323"
  },
  {
   "cell_type": "code",
   "execution_count": null,
   "outputs": [],
   "source": [
    "tuner = RandomSearch(model_builder,objective='loss', seed=100, max_trials=100)"
   ],
   "metadata": {
    "collapsed": false
   },
   "id": "9d9e43091da1804f"
  },
  {
   "cell_type": "code",
   "execution_count": null,
   "outputs": [],
   "source": [
    "tuner.search(X_train,y_train,epochs = 5)"
   ],
   "metadata": {
    "collapsed": false
   },
   "id": "5799f234fcc29f73"
  },
  {
   "cell_type": "code",
   "execution_count": null,
   "outputs": [],
   "source": [
    "best_hps = tuner.get_best_hyperparameters(num_trials=1)[0]\n",
    "hypermodel = tuner.hypermodel.build(best_hps)\n",
    "history = hypermodel.fit(X_train, y_train, epochs=50, callbacks=[early_stopping])\n",
    "\n"
   ],
   "metadata": {
    "collapsed": false
   },
   "id": "d580d28233638cf8"
  },
  {
   "cell_type": "code",
   "execution_count": null,
   "outputs": [],
   "source": [
    "hypermodel.save('results/model.keras')"
   ],
   "metadata": {
    "collapsed": false
   },
   "id": "26f6d11b51c213ba"
  },
  {
   "cell_type": "code",
   "execution_count": null,
   "outputs": [],
   "source": [
    "\n",
    "with open('transformer', 'wb') as filepath:\n",
    "    pickle.dump(transformer,filepath)"
   ],
   "metadata": {
    "collapsed": false
   },
   "id": "55e48fa13cdca578"
  },
  {
   "cell_type": "code",
   "execution_count": null,
   "outputs": [],
   "source": [],
   "metadata": {
    "collapsed": false
   },
   "id": "a31c8b3316b2ab36"
  }
 ],
 "metadata": {
  "kernelspec": {
   "display_name": "Python 3",
   "language": "python",
   "name": "python3"
  },
  "language_info": {
   "codemirror_mode": {
    "name": "ipython",
    "version": 2
   },
   "file_extension": ".py",
   "mimetype": "text/x-python",
   "name": "python",
   "nbconvert_exporter": "python",
   "pygments_lexer": "ipython2",
   "version": "2.7.6"
  }
 },
 "nbformat": 4,
 "nbformat_minor": 5
}
