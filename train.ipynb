{
 "cells": [
  {
   "cell_type": "code",
   "execution_count": 1,
   "outputs": [],
   "source": [
    "import pandas as pd\n",
    "import numpy as np\n",
    "import transformers\n",
    "from sklearn.preprocessing import MinMaxScaler, StandardScaler\n",
    "\n",
    "train_data = pd.read_csv('stockprice_master_NSE-TATAGLOBAL.csv')"
   ],
   "metadata": {
    "collapsed": false,
    "ExecuteTime": {
     "end_time": "2023-08-23T20:56:50.305742900Z",
     "start_time": "2023-08-23T20:56:49.184686300Z"
    }
   },
   "id": "c5f425311758b362"
  },
  {
   "cell_type": "markdown",
   "source": [],
   "metadata": {
    "collapsed": false
   },
   "id": "25b27acc0012c4d6"
  },
  {
   "cell_type": "code",
   "execution_count": 2,
   "outputs": [],
   "source": [
    "steps = 60"
   ],
   "metadata": {
    "collapsed": false,
    "ExecuteTime": {
     "end_time": "2023-08-23T20:56:50.321360200Z",
     "start_time": "2023-08-23T20:56:50.305742900Z"
    }
   },
   "id": "bad6c887769e1d3c"
  },
  {
   "cell_type": "code",
   "execution_count": 3,
   "outputs": [],
   "source": [
    "transformer, train_data = transformers.format_data(train_data)"
   ],
   "metadata": {
    "collapsed": false,
    "ExecuteTime": {
     "end_time": "2023-08-23T20:56:50.336953400Z",
     "start_time": "2023-08-23T20:56:50.321360200Z"
    }
   },
   "id": "14021d96cd497f71"
  },
  {
   "cell_type": "code",
   "execution_count": 4,
   "outputs": [],
   "source": [
    "X_train, y_train = transformers.create_sequences(train_data, steps)"
   ],
   "metadata": {
    "collapsed": false,
    "ExecuteTime": {
     "end_time": "2023-08-23T20:56:50.352604800Z",
     "start_time": "2023-08-23T20:56:50.336953400Z"
    }
   },
   "id": "f8984038996979b2"
  },
  {
   "cell_type": "code",
   "execution_count": 5,
   "outputs": [],
   "source": [
    "# from keras_tuner import HyperParameters, GridSearch\n",
    "# from keras.models import Model, load_model\n",
    "# from keras.layers import Input,Dense, LSTM, Dropout\n",
    "# from keras.callbacks import EarlyStopping\n",
    "# from keras.losses import CategoricalCrossentropy\n",
    "# from keras.metrics import CategoricalAccuracy\n",
    "# from keras.optimizers import Adam"
   ],
   "metadata": {
    "collapsed": false,
    "ExecuteTime": {
     "end_time": "2023-08-23T20:56:50.368226300Z",
     "start_time": "2023-08-23T20:56:50.352604800Z"
    }
   },
   "id": "28a09d438d8dc83e"
  },
  {
   "cell_type": "code",
   "execution_count": 6,
   "outputs": [],
   "source": [
    "# inputs = Input(shape=(X_train[1].shape))\n",
    "# lstm1 = LSTM(units=50,return_sequences=True)(inputs)\n",
    "# dropout = Dropout(0.2)(lstm1)\n",
    "# lstm2 = LSTM(units=50, return_sequences=True)(dropout)\n",
    "# dropout = Dropout(0.2)(lstm2)\n",
    "# lstm3 = LSTM(units=50)(dropout)\n",
    "# dropout = Dropout(0.2)(lstm3)\n",
    "# output = Dense(units=1)(dropout)\n",
    "# model = Model(inputs,output,name='stock-price-prediction')\n",
    "# model.compile(optimizer='adam',loss='mean_squared_error')\n",
    "# model.fit(X_train,y_train,epochs=8)"
   ],
   "metadata": {
    "collapsed": false,
    "ExecuteTime": {
     "end_time": "2023-08-23T20:56:50.383841300Z",
     "start_time": "2023-08-23T20:56:50.368226300Z"
    }
   },
   "id": "2cf65255d92b4e23"
  },
  {
   "cell_type": "code",
   "execution_count": 7,
   "outputs": [],
   "source": [
    "# model.save('results/model.keras')"
   ],
   "metadata": {
    "collapsed": false,
    "ExecuteTime": {
     "end_time": "2023-08-23T20:56:50.399439100Z",
     "start_time": "2023-08-23T20:56:50.383841300Z"
    }
   },
   "id": "22db966b1ff1a321"
  },
  {
   "cell_type": "code",
   "execution_count": 8,
   "outputs": [],
   "source": [
    "from keras.models import Model, load_model\n",
    "model: Model = load_model('results/model.keras')"
   ],
   "metadata": {
    "collapsed": false,
    "ExecuteTime": {
     "end_time": "2023-08-23T20:56:53.845941300Z",
     "start_time": "2023-08-23T20:56:50.399439100Z"
    }
   },
   "id": "157bfcc62c4d1e81"
  },
  {
   "cell_type": "code",
   "execution_count": 9,
   "outputs": [],
   "source": [
    "test_data = pd.read_csv('mwitiderrick_stockprice_master_tatatest.csv')"
   ],
   "metadata": {
    "collapsed": false,
    "ExecuteTime": {
     "end_time": "2023-08-23T20:56:53.861562Z",
     "start_time": "2023-08-23T20:56:53.845941300Z"
    }
   },
   "id": "b326c8a7904bd614"
  },
  {
   "cell_type": "code",
   "execution_count": 10,
   "outputs": [],
   "source": [
    "real_values = test_data['Open'].values.reshape(-1,1)"
   ],
   "metadata": {
    "collapsed": false,
    "ExecuteTime": {
     "end_time": "2023-08-23T20:56:53.877154200Z",
     "start_time": "2023-08-23T20:56:53.861562Z"
    }
   },
   "id": "3304872f8baf0259"
  },
  {
   "cell_type": "code",
   "execution_count": 11,
   "outputs": [],
   "source": [
    "test_data= transformer.transform(test_data.iloc[::-1])"
   ],
   "metadata": {
    "collapsed": false,
    "ExecuteTime": {
     "end_time": "2023-08-23T20:56:53.892775700Z",
     "start_time": "2023-08-23T20:56:53.877154200Z"
    }
   },
   "id": "af59271ee67e0173"
  },
  {
   "cell_type": "code",
   "execution_count": 12,
   "outputs": [],
   "source": [
    "newdata = np.append(train_data[-steps:,:],test_data,axis=0)"
   ],
   "metadata": {
    "collapsed": false,
    "ExecuteTime": {
     "end_time": "2023-08-23T20:56:53.908494300Z",
     "start_time": "2023-08-23T20:56:53.892775700Z"
    }
   },
   "id": "14ccd78bb1886d3e"
  },
  {
   "cell_type": "code",
   "execution_count": 13,
   "outputs": [],
   "source": [
    "X_test = []\n",
    "for i in range(60, 76):\n",
    "    X_test.append(newdata[i-60:i, :])\n",
    "X_test = np.array(X_test)"
   ],
   "metadata": {
    "collapsed": false,
    "ExecuteTime": {
     "end_time": "2023-08-23T20:56:53.924102200Z",
     "start_time": "2023-08-23T20:56:53.908494300Z"
    }
   },
   "id": "3b4e2eeef6dc660e"
  },
  {
   "cell_type": "code",
   "execution_count": 14,
   "outputs": [
    {
     "name": "stdout",
     "output_type": "stream",
     "text": [
      "1/1 [==============================] - 1s 948ms/step\n"
     ]
    }
   ],
   "source": [
    "predictions = model.predict(X_test)"
   ],
   "metadata": {
    "collapsed": false,
    "ExecuteTime": {
     "end_time": "2023-08-23T20:56:54.934425800Z",
     "start_time": "2023-08-23T20:56:53.924102200Z"
    }
   },
   "id": "f20713ed1c2490ec"
  },
  {
   "cell_type": "code",
   "execution_count": 15,
   "outputs": [],
   "source": [
    "open_scaler = transformer.transformers_[1][1]"
   ],
   "metadata": {
    "collapsed": false,
    "ExecuteTime": {
     "end_time": "2023-08-23T20:56:54.981320Z",
     "start_time": "2023-08-23T20:56:54.934425800Z"
    }
   },
   "id": "d42a18761a92ff2f"
  },
  {
   "cell_type": "code",
   "execution_count": 16,
   "outputs": [],
   "source": [
    "predictions = open_scaler.inverse_transform(predictions)"
   ],
   "metadata": {
    "collapsed": false,
    "ExecuteTime": {
     "end_time": "2023-08-23T20:56:54.981320Z",
     "start_time": "2023-08-23T20:56:54.950076800Z"
    }
   },
   "id": "713e8255a3233687"
  },
  {
   "cell_type": "code",
   "execution_count": 18,
   "outputs": [],
   "source": [
    "import matplotlib.pyplot as plt"
   ],
   "metadata": {
    "collapsed": false,
    "ExecuteTime": {
     "end_time": "2023-08-23T20:57:45.575105600Z",
     "start_time": "2023-08-23T20:57:45.151984700Z"
    }
   },
   "id": "5834f19c433cd12e"
  },
  {
   "cell_type": "code",
   "execution_count": 28,
   "outputs": [
    {
     "data": {
      "text/plain": "<Figure size 640x480 with 1 Axes>",
      "image/png": "[encoded data removed]"
     },
     "metadata": {},
     "output_type": "display_data"
    }
   ],
   "source": [
    "plt.plot(real_values, color = 'black', label = 'Stock Price')\n",
    "plt.plot(predictions, color = 'green', label = 'Predicted Stock Price')\n",
    "plt.title('Stock Price Prediction')\n",
    "plt.xlabel('Time in days')\n",
    "plt.ylabel(' Stock Price')\n",
    "plt.legend()\n",
    "plt.savefig('results/Stock-price-fig')\n"
   ],
   "metadata": {
    "collapsed": false,
    "ExecuteTime": {
     "end_time": "2023-08-23T21:17:47.344843100Z",
     "start_time": "2023-08-23T21:17:47.071989Z"
    }
   },
   "id": "f214b5fa4efc04a2"
  },
  {
   "cell_type": "code",
   "execution_count": 33,
   "outputs": [
    {
     "data": {
      "text/plain": "{'Mean Abs % Err': 2.942, 'Root Mean Sq. Err': 7.72}"
     },
     "execution_count": 33,
     "metadata": {},
     "output_type": "execute_result"
    }
   ],
   "source": [
    "from sklearn.metrics import mean_absolute_percentage_error, mean_squared_error\n",
    "\n",
    "results = {'Mean Abs % Err': (mean_absolute_percentage_error(real_values,predictions)*100).round(3),'Root Mean Sq. Err': np.sqrt(mean_squared_error(real_values,predictions)).round(3)}\n",
    "results"
   ],
   "metadata": {
    "collapsed": false,
    "ExecuteTime": {
     "end_time": "2023-08-23T21:28:16.970722300Z",
     "start_time": "2023-08-23T21:28:16.909100900Z"
    }
   },
   "id": "2b901cad78211f7e"
  }
 ],
 "metadata": {
  "kernelspec": {
   "display_name": "Python 3",
   "language": "python",
   "name": "python3"
  },
  "language_info": {
   "codemirror_mode": {
    "name": "ipython",
    "version": 2
   },
   "file_extension": ".py",
   "mimetype": "text/x-python",
   "name": "python",
   "nbconvert_exporter": "python",
   "pygments_lexer": "ipython2",
   "version": "2.7.6"
  }
 },
 "nbformat": 4,
 "nbformat_minor": 5
}
